{
  "cells": [
    {
      "cell_type": "markdown",
      "metadata": {
        "id": "view-in-github",
        "colab_type": "text"
      },
      "source": [
        "<a href=\"https://colab.research.google.com/github/fajrunwm/ucldss/blob/main/Practice_questions.ipynb\" target=\"_parent\"><img src=\"https://colab.research.google.com/assets/colab-badge.svg\" alt=\"Open In Colab\"/></a>"
      ]
    },
    {
      "cell_type": "markdown",
      "id": "3d1b1328",
      "metadata": {
        "id": "3d1b1328"
      },
      "source": [
        "# 1. Variables"
      ]
    },
    {
      "cell_type": "markdown",
      "id": "55703682",
      "metadata": {
        "id": "55703682"
      },
      "source": [
        "##### Practice 1\n",
        "###### Correct the code"
      ]
    },
    {
      "cell_type": "code",
      "execution_count": null,
      "id": "f3e65579",
      "metadata": {
        "id": "f3e65579",
        "colab": {
          "base_uri": "https://localhost:8080/"
        },
        "outputId": "036e25dd-eb9a-47a1-c546-28e2d7c33484"
      },
      "outputs": [
        {
          "output_type": "stream",
          "name": "stdout",
          "text": [
            "1\n"
          ]
        }
      ],
      "source": [
        "a, b, c, d = 1, 2, 3, 4\n",
        "print(a)"
      ]
    },
    {
      "cell_type": "markdown",
      "id": "4f9f7f4e",
      "metadata": {
        "id": "4f9f7f4e"
      },
      "source": [
        "##### Practice 2\n",
        "###### Correct the code"
      ]
    },
    {
      "cell_type": "code",
      "execution_count": 17,
      "id": "191ef4ad",
      "metadata": {
        "id": "191ef4ad",
        "colab": {
          "base_uri": "https://localhost:8080/"
        },
        "outputId": "252585b3-d9d0-4d0d-bbf1-d3c3b153f6a5"
      },
      "outputs": [
        {
          "output_type": "stream",
          "name": "stdout",
          "text": [
            "2\n"
          ]
        }
      ],
      "source": [
        "a, b, c, d = 1, 2, 3, 4\n",
        "print(b)"
      ]
    },
    {
      "cell_type": "markdown",
      "id": "c546f0a7",
      "metadata": {
        "id": "c546f0a7"
      },
      "source": [
        "##### Practice 3\n",
        "###### Correct the code"
      ]
    },
    {
      "cell_type": "code",
      "execution_count": 18,
      "id": "0ac439b1",
      "metadata": {
        "id": "0ac439b1",
        "colab": {
          "base_uri": "https://localhost:8080/"
        },
        "outputId": "86f2abb7-10ce-49af-a7db-1c7a3857f711"
      },
      "outputs": [
        {
          "output_type": "stream",
          "name": "stdout",
          "text": [
            "Potato\n"
          ]
        }
      ],
      "source": [
        "a = b = c = 'Potato'\n",
        "print(c)"
      ]
    },
    {
      "cell_type": "markdown",
      "id": "386cea22",
      "metadata": {
        "id": "386cea22"
      },
      "source": [
        "# 2. Data Types"
      ]
    },
    {
      "cell_type": "markdown",
      "id": "2ea1f479",
      "metadata": {
        "id": "2ea1f479"
      },
      "source": [
        "###### Practice 4\n",
        "###### Convert the following into an integer, float, and a boolean and confirm the data type after convertion"
      ]
    },
    {
      "cell_type": "code",
      "execution_count": 19,
      "id": "e75a7d18",
      "metadata": {
        "id": "e75a7d18",
        "colab": {
          "base_uri": "https://localhost:8080/"
        },
        "outputId": "b179a211-0830-4ac1-9db9-4be50ad0adca"
      },
      "outputs": [
        {
          "output_type": "stream",
          "name": "stdout",
          "text": [
            "<class 'int'>\n",
            "<class 'float'>\n",
            "<class 'bool'>\n"
          ]
        }
      ],
      "source": [
        "a = '4'\n",
        "int_a = int(a)\n",
        "float_a = float(a)\n",
        "boolean_a = bool(a)\n",
        "print(type(int_a))\n",
        "print(type(float_a))\n",
        "print(type(boolean_a))"
      ]
    },
    {
      "cell_type": "markdown",
      "id": "c87d2bed",
      "metadata": {
        "id": "c87d2bed"
      },
      "source": [
        "# 3. Mathematical Operations"
      ]
    },
    {
      "cell_type": "markdown",
      "id": "5185f461",
      "metadata": {
        "id": "5185f461"
      },
      "source": [
        "###### Practice 5\n",
        "###### Find the value of P(5) of this Fifth Order Legendre Polynomial without using a calculator\n",
        "\n",
        "$$y = P(x) = \\frac{1}{8} (63x^5 - 70x^3 + 15x)$$"
      ]
    },
    {
      "cell_type": "code",
      "source": [
        "def legendre_5(x):\n",
        "  result = (1/8)*((63*x**5) - (70*x**3) + 15*x)\n",
        "  return result\n",
        "print (legendre_5(5))"
      ],
      "metadata": {
        "colab": {
          "base_uri": "https://localhost:8080/"
        },
        "id": "zEBnV3BinQyv",
        "outputId": "d6c0a774-4438-4c02-d404-f785a5d373b0"
      },
      "id": "zEBnV3BinQyv",
      "execution_count": 20,
      "outputs": [
        {
          "output_type": "stream",
          "name": "stdout",
          "text": [
            "23525.0\n"
          ]
        }
      ]
    },
    {
      "cell_type": "markdown",
      "id": "98bff966",
      "metadata": {
        "id": "98bff966"
      },
      "source": [
        "<div class=\"alert alert-block alert-info\">\n",
        "<b>Tip:</b> Use as many variables as you may to break down a big problem into smaller parts.\n",
        "</div>"
      ]
    },
    {
      "cell_type": "markdown",
      "id": "34843791",
      "metadata": {
        "id": "34843791"
      },
      "source": [
        "###### Practice 6\n",
        "###### Solve the following Quadratic equation"
      ]
    },
    {
      "cell_type": "markdown",
      "id": "af877153",
      "metadata": {
        "id": "af877153"
      },
      "source": [
        "$$ax^2 + bx + c = 0$$\n",
        "\n",
        "such an equation can be solved using the quadratic formula\n",
        "\n",
        "$$ x =  \\frac{-b \\pm \\sqrt{b^2 - 4ac}}{2a} $$\n",
        "\n",
        "$x^2 + 5x +6 = 0$"
      ]
    },
    {
      "cell_type": "code",
      "source": [
        "import numpy as np\n",
        "\n",
        "def quadratic():\n",
        "  x_1 = (5 + np.sqrt(5**2 - 4*1*4))/(2*1)\n",
        "  x_2 = (5 - np.sqrt(5**2 - 4*1*4))/(2*1)\n",
        "\n",
        "  return x_1, x_2\n",
        "\n",
        "print(quadratic())"
      ],
      "metadata": {
        "colab": {
          "base_uri": "https://localhost:8080/"
        },
        "id": "CDSxh-p4nyQX",
        "outputId": "478eccec-25ee-44d3-bcec-dd7a6db22138"
      },
      "id": "CDSxh-p4nyQX",
      "execution_count": null,
      "outputs": [
        {
          "output_type": "stream",
          "name": "stdout",
          "text": [
            "(4.0, 1.0)\n"
          ]
        }
      ]
    },
    {
      "cell_type": "markdown",
      "id": "bd4365db",
      "metadata": {
        "id": "bd4365db"
      },
      "source": [
        "<div class=\"alert alert-block alert-info\">\n",
        "<b>Tip:</b> Use Internt to find code in numpy to find square root.\n",
        "</div>"
      ]
    },
    {
      "cell_type": "markdown",
      "id": "615aa45b",
      "metadata": {
        "id": "615aa45b"
      },
      "source": [
        "# 4. Strings"
      ]
    },
    {
      "cell_type": "markdown",
      "id": "cf537aea",
      "metadata": {
        "id": "cf537aea"
      },
      "source": [
        "##### Practice 7\n",
        "###### Use your web surfing skills to find the code for finding number of times the letter 'a' in present in the following text"
      ]
    },
    {
      "cell_type": "code",
      "execution_count": null,
      "id": "0827e338",
      "metadata": {
        "id": "0827e338"
      },
      "outputs": [],
      "source": [
        "Macbeth = 'The play begins with the brief appearance of a trio of witches and then moves to a military camp, where the Scottish King Duncan hears the news that his generals, Macbeth and Banquo, have defeated two separate invading armies—one from Ireland, led by the rebel Macdonwald, and one from Norway. Following their pitched battle with these enemy forces, Macbeth and Banquo encounter the witches as they cross a moor. The witches prophesy that Macbeth will be made thane (a rank of Scottish nobility) of Cawdor and eventually King of Scotland. They also prophesy that Macbeth’s companion, Banquo, will beget a line of Scottish kings, although Banquo will never be king himself'"
      ]
    },
    {
      "cell_type": "markdown",
      "id": "85d86117",
      "metadata": {
        "id": "85d86117"
      },
      "source": [
        "###### Practice 8\n",
        "###### Use your web surfing skills to find a code for find the length of the string 'Macbeth'"
      ]
    },
    {
      "cell_type": "code",
      "execution_count": null,
      "id": "bb9ed1ab",
      "metadata": {
        "id": "bb9ed1ab",
        "colab": {
          "base_uri": "https://localhost:8080/"
        },
        "outputId": "c9ba919e-2452-4ef5-cf26-621f3df970ba"
      },
      "outputs": [
        {
          "output_type": "stream",
          "name": "stdout",
          "text": [
            "671\n"
          ]
        }
      ],
      "source": [
        "print(len(Macbeth))"
      ]
    },
    {
      "cell_type": "markdown",
      "id": "a192cd6c",
      "metadata": {
        "id": "a192cd6c"
      },
      "source": [
        "# 5. If else"
      ]
    },
    {
      "cell_type": "markdown",
      "id": "87b37d88",
      "metadata": {
        "id": "87b37d88"
      },
      "source": [
        "###### Practice 9\n",
        "###### Write a code to assign grades to students when they enter their percentages\n",
        "\n",
        "\n",
        "\n",
        "\n",
        "If they get 90 or above, assign A+ grade\n",
        "\n",
        "\n",
        "\n",
        "\n",
        "If they get between 80 and 89 inclusive, assign A grade\n",
        "\n",
        "\n",
        "\n",
        "\n",
        "if they get between 70 and 79 inclusive, assign B grade\n",
        "\n",
        "\n",
        "\n",
        "\n",
        "If they get between 60 and 69 inclusive, assign C grade\n",
        "\n",
        "\n",
        "\n",
        "\n",
        "\n",
        "If they get between 50 and 59 inclusive, assign D grade\n",
        "\n",
        "\n",
        "\n",
        "\n",
        "If they get between 40 and 49 inclusive, assign E grade"
      ]
    },
    {
      "cell_type": "code",
      "source": [],
      "metadata": {
        "id": "6C8f51kyo2UQ"
      },
      "id": "6C8f51kyo2UQ",
      "execution_count": null,
      "outputs": []
    },
    {
      "cell_type": "markdown",
      "id": "633b55ae",
      "metadata": {
        "id": "633b55ae"
      },
      "source": [
        "# 6. While Loop"
      ]
    },
    {
      "cell_type": "markdown",
      "id": "2a6e2e41",
      "metadata": {
        "id": "2a6e2e41"
      },
      "source": [
        "###### Practice 10\n",
        "###### Correct the code"
      ]
    },
    {
      "cell_type": "code",
      "execution_count": null,
      "id": "6b207a99",
      "metadata": {
        "id": "6b207a99",
        "colab": {
          "base_uri": "https://localhost:8080/"
        },
        "outputId": "6916814a-416d-4db4-db36-2af5db7bc582"
      },
      "outputs": [
        {
          "output_type": "stream",
          "name": "stdout",
          "text": [
            "225\n",
            "196\n",
            "169\n",
            "144\n",
            "121\n"
          ]
        }
      ],
      "source": [
        "i = 15\n",
        "\n",
        "while i > 10:\n",
        "  print(i**2)\n",
        "  i -= 1\n",
        "\n",
        " # This is the equivalent of i = i - 1"
      ]
    },
    {
      "cell_type": "markdown",
      "id": "172c8b27",
      "metadata": {
        "id": "172c8b27"
      },
      "source": [
        "###### Practice 11\n",
        "###### Why is the code not doing anything?"
      ]
    },
    {
      "cell_type": "code",
      "execution_count": null,
      "id": "49f7f1f2",
      "metadata": {
        "id": "49f7f1f2"
      },
      "outputs": [],
      "source": [
        "i = 2\n",
        "\n",
        "while i >= 5:\n",
        "    print(i*10)\n",
        "    i += 1\n",
        "\n",
        "# As i is not more than or equal to 5"
      ]
    },
    {
      "cell_type": "markdown",
      "id": "fe43bc5d",
      "metadata": {
        "id": "fe43bc5d"
      },
      "source": [
        "# 7. For loop"
      ]
    },
    {
      "cell_type": "markdown",
      "id": "d906e8f6",
      "metadata": {
        "id": "d906e8f6"
      },
      "source": [
        "###### Practice 12\n",
        "###### Write a code which outputs the square root of the first 15 whole numbers (including 0)"
      ]
    },
    {
      "cell_type": "code",
      "execution_count": null,
      "id": "56bcebdc",
      "metadata": {
        "id": "56bcebdc",
        "colab": {
          "base_uri": "https://localhost:8080/"
        },
        "outputId": "e5df71e3-1ff0-4a89-ebb2-1d202699272a"
      },
      "outputs": [
        {
          "output_type": "stream",
          "name": "stdout",
          "text": [
            "0\n",
            "1\n",
            "4\n",
            "9\n",
            "16\n",
            "25\n",
            "36\n",
            "49\n",
            "64\n",
            "81\n",
            "100\n",
            "121\n",
            "144\n",
            "169\n",
            "196\n",
            "225\n"
          ]
        }
      ],
      "source": [
        "for i in range(16):\n",
        "  print(i**2)"
      ]
    },
    {
      "cell_type": "markdown",
      "id": "bba1999a",
      "metadata": {
        "id": "bba1999a"
      },
      "source": [
        "# Optional Problem"
      ]
    },
    {
      "cell_type": "markdown",
      "id": "40c88549",
      "metadata": {
        "id": "40c88549"
      },
      "source": [
        "$$f_\\text{square}(x) = \\frac{4}{\\pi} \\sum_{n = 1, 3, 5, \\ldots}^{\\infty} \\frac{1}{n} \\sin\\left(\\frac{n \\pi x}{L}\\right) \\qquad \\qquad$$"
      ]
    },
    {
      "cell_type": "markdown",
      "id": "426df7e6",
      "metadata": {
        "id": "426df7e6"
      },
      "source": [
        "The function above calculates the Fourier Series of a square wave.\n",
        "\n",
        "\n",
        "\n",
        "\n",
        "For the sake of simplicity you may not sum up till n = infinite, Instead just go from $n = 1$ to $n = 3$.\n",
        "\n",
        "\n",
        "\n",
        "\n",
        "\n",
        "Find $f(5)$ when $L = 5$"
      ]
    },
    {
      "cell_type": "markdown",
      "id": "adfc6be2",
      "metadata": {
        "id": "adfc6be2"
      },
      "source": [
        "Theoretically, you know all the concepts you need to apply to solve the above problem, however if you are absolutely baffled by the mere sight of this complication equation, let alone solve it, don't worry. This is a very hard problem. We do not expect you to solve it. This is just a glimpse of what you will be able to solve in a few weeks of time as we will teach you the codes to solve these kinds of problems along with other types."
      ]
    },
    {
      "cell_type": "code",
      "execution_count": null,
      "id": "51adcaaa",
      "metadata": {
        "id": "51adcaaa",
        "colab": {
          "base_uri": "https://localhost:8080/"
        },
        "outputId": "71b37ef9-e989-4116-92cd-72d6b2981d84"
      },
      "outputs": [
        {
          "output_type": "stream",
          "name": "stdout",
          "text": [
            "1.224646799147353e-16\n"
          ]
        }
      ],
      "source": [
        "import numpy as np\n",
        "\n",
        "sum = 0\n",
        "def func():\n",
        "  for i in range (1, 4, 1):\n",
        "\n",
        "    result = (1/i)*np.sin((i*np.pi*5)/(5))\n",
        "\n",
        "  return result\n",
        "\n",
        "print(func())"
      ]
    },
    {
      "cell_type": "code",
      "source": [],
      "metadata": {
        "id": "Yd8asGGNqL7j"
      },
      "id": "Yd8asGGNqL7j",
      "execution_count": null,
      "outputs": []
    }
  ],
  "metadata": {
    "kernelspec": {
      "display_name": "Python 3 (ipykernel)",
      "language": "python",
      "name": "python3"
    },
    "language_info": {
      "codemirror_mode": {
        "name": "ipython",
        "version": 3
      },
      "file_extension": ".py",
      "mimetype": "text/x-python",
      "name": "python",
      "nbconvert_exporter": "python",
      "pygments_lexer": "ipython3",
      "version": "3.10.9"
    },
    "colab": {
      "provenance": [],
      "include_colab_link": true
    }
  },
  "nbformat": 4,
  "nbformat_minor": 5
}